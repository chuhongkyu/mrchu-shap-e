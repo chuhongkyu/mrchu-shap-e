{
  "nbformat": 4,
  "nbformat_minor": 0,
  "metadata": {
    "colab": {
      "provenance": [],
      "gpuType": "T4",
      "toc_visible": true,
      "authorship_tag": "ABX9TyMVU2r8lGay+ZCdnmokSVPL",
      "include_colab_link": true
    },
    "kernelspec": {
      "name": "python3",
      "display_name": "Python 3"
    },
    "language_info": {
      "name": "python"
    },
    "accelerator": "GPU",
    "widgets": {
      "application/vnd.jupyter.widget-state+json": {
        "8366b8e10d324e61bf819ae695bc6404": {
          "model_module": "@jupyter-widgets/controls",
          "model_name": "HBoxModel",
          "model_module_version": "1.5.0",
          "state": {
            "_dom_classes": [],
            "_model_module": "@jupyter-widgets/controls",
            "_model_module_version": "1.5.0",
            "_model_name": "HBoxModel",
            "_view_count": null,
            "_view_module": "@jupyter-widgets/controls",
            "_view_module_version": "1.5.0",
            "_view_name": "HBoxView",
            "box_style": "",
            "children": [
              "IPY_MODEL_fbec3bc6a7b94f72bd3b5a0812b4a93a",
              "IPY_MODEL_da69ea564ebb43f6806af0c6df785354",
              "IPY_MODEL_4ac9231a92b84f8fbab114f98b538556"
            ],
            "layout": "IPY_MODEL_c9f22c33516043bb93e568e799b77c27"
          }
        },
        "fbec3bc6a7b94f72bd3b5a0812b4a93a": {
          "model_module": "@jupyter-widgets/controls",
          "model_name": "HTMLModel",
          "model_module_version": "1.5.0",
          "state": {
            "_dom_classes": [],
            "_model_module": "@jupyter-widgets/controls",
            "_model_module_version": "1.5.0",
            "_model_name": "HTMLModel",
            "_view_count": null,
            "_view_module": "@jupyter-widgets/controls",
            "_view_module_version": "1.5.0",
            "_view_name": "HTMLView",
            "description": "",
            "description_tooltip": null,
            "layout": "IPY_MODEL_1663d3f0acd44ddaae921ddc64dded68",
            "placeholder": "​",
            "style": "IPY_MODEL_d1da1476fe134d6baeaf52fc6759d864",
            "value": "100%"
          }
        },
        "da69ea564ebb43f6806af0c6df785354": {
          "model_module": "@jupyter-widgets/controls",
          "model_name": "FloatProgressModel",
          "model_module_version": "1.5.0",
          "state": {
            "_dom_classes": [],
            "_model_module": "@jupyter-widgets/controls",
            "_model_module_version": "1.5.0",
            "_model_name": "FloatProgressModel",
            "_view_count": null,
            "_view_module": "@jupyter-widgets/controls",
            "_view_module_version": "1.5.0",
            "_view_name": "ProgressView",
            "bar_style": "success",
            "description": "",
            "description_tooltip": null,
            "layout": "IPY_MODEL_295d25265cc84a1ebb134bebe5aa4b4b",
            "max": 1776048343,
            "min": 0,
            "orientation": "horizontal",
            "style": "IPY_MODEL_a11ffb6a43bc405e8bb7d3124fb64cb0",
            "value": 1776048343
          }
        },
        "4ac9231a92b84f8fbab114f98b538556": {
          "model_module": "@jupyter-widgets/controls",
          "model_name": "HTMLModel",
          "model_module_version": "1.5.0",
          "state": {
            "_dom_classes": [],
            "_model_module": "@jupyter-widgets/controls",
            "_model_module_version": "1.5.0",
            "_model_name": "HTMLModel",
            "_view_count": null,
            "_view_module": "@jupyter-widgets/controls",
            "_view_module_version": "1.5.0",
            "_view_name": "HTMLView",
            "description": "",
            "description_tooltip": null,
            "layout": "IPY_MODEL_7c72c623782f4e14a3423035399187c6",
            "placeholder": "​",
            "style": "IPY_MODEL_a0b102ca8d254df081979c7ed72b1969",
            "value": " 1.78G/1.78G [00:57&lt;00:00, 54.3MiB/s]"
          }
        },
        "c9f22c33516043bb93e568e799b77c27": {
          "model_module": "@jupyter-widgets/base",
          "model_name": "LayoutModel",
          "model_module_version": "1.2.0",
          "state": {
            "_model_module": "@jupyter-widgets/base",
            "_model_module_version": "1.2.0",
            "_model_name": "LayoutModel",
            "_view_count": null,
            "_view_module": "@jupyter-widgets/base",
            "_view_module_version": "1.2.0",
            "_view_name": "LayoutView",
            "align_content": null,
            "align_items": null,
            "align_self": null,
            "border": null,
            "bottom": null,
            "display": null,
            "flex": null,
            "flex_flow": null,
            "grid_area": null,
            "grid_auto_columns": null,
            "grid_auto_flow": null,
            "grid_auto_rows": null,
            "grid_column": null,
            "grid_gap": null,
            "grid_row": null,
            "grid_template_areas": null,
            "grid_template_columns": null,
            "grid_template_rows": null,
            "height": null,
            "justify_content": null,
            "justify_items": null,
            "left": null,
            "margin": null,
            "max_height": null,
            "max_width": null,
            "min_height": null,
            "min_width": null,
            "object_fit": null,
            "object_position": null,
            "order": null,
            "overflow": null,
            "overflow_x": null,
            "overflow_y": null,
            "padding": null,
            "right": null,
            "top": null,
            "visibility": null,
            "width": null
          }
        },
        "1663d3f0acd44ddaae921ddc64dded68": {
          "model_module": "@jupyter-widgets/base",
          "model_name": "LayoutModel",
          "model_module_version": "1.2.0",
          "state": {
            "_model_module": "@jupyter-widgets/base",
            "_model_module_version": "1.2.0",
            "_model_name": "LayoutModel",
            "_view_count": null,
            "_view_module": "@jupyter-widgets/base",
            "_view_module_version": "1.2.0",
            "_view_name": "LayoutView",
            "align_content": null,
            "align_items": null,
            "align_self": null,
            "border": null,
            "bottom": null,
            "display": null,
            "flex": null,
            "flex_flow": null,
            "grid_area": null,
            "grid_auto_columns": null,
            "grid_auto_flow": null,
            "grid_auto_rows": null,
            "grid_column": null,
            "grid_gap": null,
            "grid_row": null,
            "grid_template_areas": null,
            "grid_template_columns": null,
            "grid_template_rows": null,
            "height": null,
            "justify_content": null,
            "justify_items": null,
            "left": null,
            "margin": null,
            "max_height": null,
            "max_width": null,
            "min_height": null,
            "min_width": null,
            "object_fit": null,
            "object_position": null,
            "order": null,
            "overflow": null,
            "overflow_x": null,
            "overflow_y": null,
            "padding": null,
            "right": null,
            "top": null,
            "visibility": null,
            "width": null
          }
        },
        "d1da1476fe134d6baeaf52fc6759d864": {
          "model_module": "@jupyter-widgets/controls",
          "model_name": "DescriptionStyleModel",
          "model_module_version": "1.5.0",
          "state": {
            "_model_module": "@jupyter-widgets/controls",
            "_model_module_version": "1.5.0",
            "_model_name": "DescriptionStyleModel",
            "_view_count": null,
            "_view_module": "@jupyter-widgets/base",
            "_view_module_version": "1.2.0",
            "_view_name": "StyleView",
            "description_width": ""
          }
        },
        "295d25265cc84a1ebb134bebe5aa4b4b": {
          "model_module": "@jupyter-widgets/base",
          "model_name": "LayoutModel",
          "model_module_version": "1.2.0",
          "state": {
            "_model_module": "@jupyter-widgets/base",
            "_model_module_version": "1.2.0",
            "_model_name": "LayoutModel",
            "_view_count": null,
            "_view_module": "@jupyter-widgets/base",
            "_view_module_version": "1.2.0",
            "_view_name": "LayoutView",
            "align_content": null,
            "align_items": null,
            "align_self": null,
            "border": null,
            "bottom": null,
            "display": null,
            "flex": null,
            "flex_flow": null,
            "grid_area": null,
            "grid_auto_columns": null,
            "grid_auto_flow": null,
            "grid_auto_rows": null,
            "grid_column": null,
            "grid_gap": null,
            "grid_row": null,
            "grid_template_areas": null,
            "grid_template_columns": null,
            "grid_template_rows": null,
            "height": null,
            "justify_content": null,
            "justify_items": null,
            "left": null,
            "margin": null,
            "max_height": null,
            "max_width": null,
            "min_height": null,
            "min_width": null,
            "object_fit": null,
            "object_position": null,
            "order": null,
            "overflow": null,
            "overflow_x": null,
            "overflow_y": null,
            "padding": null,
            "right": null,
            "top": null,
            "visibility": null,
            "width": null
          }
        },
        "a11ffb6a43bc405e8bb7d3124fb64cb0": {
          "model_module": "@jupyter-widgets/controls",
          "model_name": "ProgressStyleModel",
          "model_module_version": "1.5.0",
          "state": {
            "_model_module": "@jupyter-widgets/controls",
            "_model_module_version": "1.5.0",
            "_model_name": "ProgressStyleModel",
            "_view_count": null,
            "_view_module": "@jupyter-widgets/base",
            "_view_module_version": "1.2.0",
            "_view_name": "StyleView",
            "bar_color": null,
            "description_width": ""
          }
        },
        "7c72c623782f4e14a3423035399187c6": {
          "model_module": "@jupyter-widgets/base",
          "model_name": "LayoutModel",
          "model_module_version": "1.2.0",
          "state": {
            "_model_module": "@jupyter-widgets/base",
            "_model_module_version": "1.2.0",
            "_model_name": "LayoutModel",
            "_view_count": null,
            "_view_module": "@jupyter-widgets/base",
            "_view_module_version": "1.2.0",
            "_view_name": "LayoutView",
            "align_content": null,
            "align_items": null,
            "align_self": null,
            "border": null,
            "bottom": null,
            "display": null,
            "flex": null,
            "flex_flow": null,
            "grid_area": null,
            "grid_auto_columns": null,
            "grid_auto_flow": null,
            "grid_auto_rows": null,
            "grid_column": null,
            "grid_gap": null,
            "grid_row": null,
            "grid_template_areas": null,
            "grid_template_columns": null,
            "grid_template_rows": null,
            "height": null,
            "justify_content": null,
            "justify_items": null,
            "left": null,
            "margin": null,
            "max_height": null,
            "max_width": null,
            "min_height": null,
            "min_width": null,
            "object_fit": null,
            "object_position": null,
            "order": null,
            "overflow": null,
            "overflow_x": null,
            "overflow_y": null,
            "padding": null,
            "right": null,
            "top": null,
            "visibility": null,
            "width": null
          }
        },
        "a0b102ca8d254df081979c7ed72b1969": {
          "model_module": "@jupyter-widgets/controls",
          "model_name": "DescriptionStyleModel",
          "model_module_version": "1.5.0",
          "state": {
            "_model_module": "@jupyter-widgets/controls",
            "_model_module_version": "1.5.0",
            "_model_name": "DescriptionStyleModel",
            "_view_count": null,
            "_view_module": "@jupyter-widgets/base",
            "_view_module_version": "1.2.0",
            "_view_name": "StyleView",
            "description_width": ""
          }
        },
        "8d8d8ab146474c069b10ddd52a0e1290": {
          "model_module": "@jupyter-widgets/controls",
          "model_name": "HBoxModel",
          "model_module_version": "1.5.0",
          "state": {
            "_dom_classes": [],
            "_model_module": "@jupyter-widgets/controls",
            "_model_module_version": "1.5.0",
            "_model_name": "HBoxModel",
            "_view_count": null,
            "_view_module": "@jupyter-widgets/controls",
            "_view_module_version": "1.5.0",
            "_view_name": "HBoxView",
            "box_style": "",
            "children": [
              "IPY_MODEL_bd366701f50b4dc893860cf7a63ecd68",
              "IPY_MODEL_3d67ef3fbb3d40bcbb636516ae9a6b91",
              "IPY_MODEL_bad4452866874fd8928a657dde53a6be"
            ],
            "layout": "IPY_MODEL_20533aafcb9e47fba92f5f6b24116b55"
          }
        },
        "bd366701f50b4dc893860cf7a63ecd68": {
          "model_module": "@jupyter-widgets/controls",
          "model_name": "HTMLModel",
          "model_module_version": "1.5.0",
          "state": {
            "_dom_classes": [],
            "_model_module": "@jupyter-widgets/controls",
            "_model_module_version": "1.5.0",
            "_model_name": "HTMLModel",
            "_view_count": null,
            "_view_module": "@jupyter-widgets/controls",
            "_view_module_version": "1.5.0",
            "_view_name": "HTMLView",
            "description": "",
            "description_tooltip": null,
            "layout": "IPY_MODEL_79072662e26a4569b54c87f100030c00",
            "placeholder": "​",
            "style": "IPY_MODEL_f8e2eba82a4d4fd583d2c736269b1865",
            "value": "100%"
          }
        },
        "3d67ef3fbb3d40bcbb636516ae9a6b91": {
          "model_module": "@jupyter-widgets/controls",
          "model_name": "FloatProgressModel",
          "model_module_version": "1.5.0",
          "state": {
            "_dom_classes": [],
            "_model_module": "@jupyter-widgets/controls",
            "_model_module_version": "1.5.0",
            "_model_name": "FloatProgressModel",
            "_view_count": null,
            "_view_module": "@jupyter-widgets/controls",
            "_view_module_version": "1.5.0",
            "_view_name": "ProgressView",
            "bar_style": "success",
            "description": "",
            "description_tooltip": null,
            "layout": "IPY_MODEL_4342c4439aa94dfe8ed9db20a323e02c",
            "max": 1262868003,
            "min": 0,
            "orientation": "horizontal",
            "style": "IPY_MODEL_b0feb0833b06410392482af35e58310d",
            "value": 1262868003
          }
        },
        "bad4452866874fd8928a657dde53a6be": {
          "model_module": "@jupyter-widgets/controls",
          "model_name": "HTMLModel",
          "model_module_version": "1.5.0",
          "state": {
            "_dom_classes": [],
            "_model_module": "@jupyter-widgets/controls",
            "_model_module_version": "1.5.0",
            "_model_name": "HTMLModel",
            "_view_count": null,
            "_view_module": "@jupyter-widgets/controls",
            "_view_module_version": "1.5.0",
            "_view_name": "HTMLView",
            "description": "",
            "description_tooltip": null,
            "layout": "IPY_MODEL_8eaf915c92e048bd9f99d72493c2b0b0",
            "placeholder": "​",
            "style": "IPY_MODEL_6cac439f094d4bfabda5784fd8a9b5a5",
            "value": " 1.26G/1.26G [00:32&lt;00:00, 46.1MiB/s]"
          }
        },
        "20533aafcb9e47fba92f5f6b24116b55": {
          "model_module": "@jupyter-widgets/base",
          "model_name": "LayoutModel",
          "model_module_version": "1.2.0",
          "state": {
            "_model_module": "@jupyter-widgets/base",
            "_model_module_version": "1.2.0",
            "_model_name": "LayoutModel",
            "_view_count": null,
            "_view_module": "@jupyter-widgets/base",
            "_view_module_version": "1.2.0",
            "_view_name": "LayoutView",
            "align_content": null,
            "align_items": null,
            "align_self": null,
            "border": null,
            "bottom": null,
            "display": null,
            "flex": null,
            "flex_flow": null,
            "grid_area": null,
            "grid_auto_columns": null,
            "grid_auto_flow": null,
            "grid_auto_rows": null,
            "grid_column": null,
            "grid_gap": null,
            "grid_row": null,
            "grid_template_areas": null,
            "grid_template_columns": null,
            "grid_template_rows": null,
            "height": null,
            "justify_content": null,
            "justify_items": null,
            "left": null,
            "margin": null,
            "max_height": null,
            "max_width": null,
            "min_height": null,
            "min_width": null,
            "object_fit": null,
            "object_position": null,
            "order": null,
            "overflow": null,
            "overflow_x": null,
            "overflow_y": null,
            "padding": null,
            "right": null,
            "top": null,
            "visibility": null,
            "width": null
          }
        },
        "79072662e26a4569b54c87f100030c00": {
          "model_module": "@jupyter-widgets/base",
          "model_name": "LayoutModel",
          "model_module_version": "1.2.0",
          "state": {
            "_model_module": "@jupyter-widgets/base",
            "_model_module_version": "1.2.0",
            "_model_name": "LayoutModel",
            "_view_count": null,
            "_view_module": "@jupyter-widgets/base",
            "_view_module_version": "1.2.0",
            "_view_name": "LayoutView",
            "align_content": null,
            "align_items": null,
            "align_self": null,
            "border": null,
            "bottom": null,
            "display": null,
            "flex": null,
            "flex_flow": null,
            "grid_area": null,
            "grid_auto_columns": null,
            "grid_auto_flow": null,
            "grid_auto_rows": null,
            "grid_column": null,
            "grid_gap": null,
            "grid_row": null,
            "grid_template_areas": null,
            "grid_template_columns": null,
            "grid_template_rows": null,
            "height": null,
            "justify_content": null,
            "justify_items": null,
            "left": null,
            "margin": null,
            "max_height": null,
            "max_width": null,
            "min_height": null,
            "min_width": null,
            "object_fit": null,
            "object_position": null,
            "order": null,
            "overflow": null,
            "overflow_x": null,
            "overflow_y": null,
            "padding": null,
            "right": null,
            "top": null,
            "visibility": null,
            "width": null
          }
        },
        "f8e2eba82a4d4fd583d2c736269b1865": {
          "model_module": "@jupyter-widgets/controls",
          "model_name": "DescriptionStyleModel",
          "model_module_version": "1.5.0",
          "state": {
            "_model_module": "@jupyter-widgets/controls",
            "_model_module_version": "1.5.0",
            "_model_name": "DescriptionStyleModel",
            "_view_count": null,
            "_view_module": "@jupyter-widgets/base",
            "_view_module_version": "1.2.0",
            "_view_name": "StyleView",
            "description_width": ""
          }
        },
        "4342c4439aa94dfe8ed9db20a323e02c": {
          "model_module": "@jupyter-widgets/base",
          "model_name": "LayoutModel",
          "model_module_version": "1.2.0",
          "state": {
            "_model_module": "@jupyter-widgets/base",
            "_model_module_version": "1.2.0",
            "_model_name": "LayoutModel",
            "_view_count": null,
            "_view_module": "@jupyter-widgets/base",
            "_view_module_version": "1.2.0",
            "_view_name": "LayoutView",
            "align_content": null,
            "align_items": null,
            "align_self": null,
            "border": null,
            "bottom": null,
            "display": null,
            "flex": null,
            "flex_flow": null,
            "grid_area": null,
            "grid_auto_columns": null,
            "grid_auto_flow": null,
            "grid_auto_rows": null,
            "grid_column": null,
            "grid_gap": null,
            "grid_row": null,
            "grid_template_areas": null,
            "grid_template_columns": null,
            "grid_template_rows": null,
            "height": null,
            "justify_content": null,
            "justify_items": null,
            "left": null,
            "margin": null,
            "max_height": null,
            "max_width": null,
            "min_height": null,
            "min_width": null,
            "object_fit": null,
            "object_position": null,
            "order": null,
            "overflow": null,
            "overflow_x": null,
            "overflow_y": null,
            "padding": null,
            "right": null,
            "top": null,
            "visibility": null,
            "width": null
          }
        },
        "b0feb0833b06410392482af35e58310d": {
          "model_module": "@jupyter-widgets/controls",
          "model_name": "ProgressStyleModel",
          "model_module_version": "1.5.0",
          "state": {
            "_model_module": "@jupyter-widgets/controls",
            "_model_module_version": "1.5.0",
            "_model_name": "ProgressStyleModel",
            "_view_count": null,
            "_view_module": "@jupyter-widgets/base",
            "_view_module_version": "1.2.0",
            "_view_name": "StyleView",
            "bar_color": null,
            "description_width": ""
          }
        },
        "8eaf915c92e048bd9f99d72493c2b0b0": {
          "model_module": "@jupyter-widgets/base",
          "model_name": "LayoutModel",
          "model_module_version": "1.2.0",
          "state": {
            "_model_module": "@jupyter-widgets/base",
            "_model_module_version": "1.2.0",
            "_model_name": "LayoutModel",
            "_view_count": null,
            "_view_module": "@jupyter-widgets/base",
            "_view_module_version": "1.2.0",
            "_view_name": "LayoutView",
            "align_content": null,
            "align_items": null,
            "align_self": null,
            "border": null,
            "bottom": null,
            "display": null,
            "flex": null,
            "flex_flow": null,
            "grid_area": null,
            "grid_auto_columns": null,
            "grid_auto_flow": null,
            "grid_auto_rows": null,
            "grid_column": null,
            "grid_gap": null,
            "grid_row": null,
            "grid_template_areas": null,
            "grid_template_columns": null,
            "grid_template_rows": null,
            "height": null,
            "justify_content": null,
            "justify_items": null,
            "left": null,
            "margin": null,
            "max_height": null,
            "max_width": null,
            "min_height": null,
            "min_width": null,
            "object_fit": null,
            "object_position": null,
            "order": null,
            "overflow": null,
            "overflow_x": null,
            "overflow_y": null,
            "padding": null,
            "right": null,
            "top": null,
            "visibility": null,
            "width": null
          }
        },
        "6cac439f094d4bfabda5784fd8a9b5a5": {
          "model_module": "@jupyter-widgets/controls",
          "model_name": "DescriptionStyleModel",
          "model_module_version": "1.5.0",
          "state": {
            "_model_module": "@jupyter-widgets/controls",
            "_model_module_version": "1.5.0",
            "_model_name": "DescriptionStyleModel",
            "_view_count": null,
            "_view_module": "@jupyter-widgets/base",
            "_view_module_version": "1.2.0",
            "_view_name": "StyleView",
            "description_width": ""
          }
        },
        "840fb34cbf5f4e25aa2d05fe2558b37e": {
          "model_module": "@jupyter-widgets/controls",
          "model_name": "HBoxModel",
          "model_module_version": "1.5.0",
          "state": {
            "_dom_classes": [],
            "_model_module": "@jupyter-widgets/controls",
            "_model_module_version": "1.5.0",
            "_model_name": "HBoxModel",
            "_view_count": null,
            "_view_module": "@jupyter-widgets/controls",
            "_view_module_version": "1.5.0",
            "_view_name": "HBoxView",
            "box_style": "",
            "children": [
              "IPY_MODEL_41668893fd8d48a4aaf8ca4efb2330b6",
              "IPY_MODEL_839fd733fe964c37a09f3170e06e6465",
              "IPY_MODEL_9d1203e16a9047c78ec82551c81ab7f2"
            ],
            "layout": "IPY_MODEL_e2e71f0667c443e7a6cece1f8b548db7"
          }
        },
        "41668893fd8d48a4aaf8ca4efb2330b6": {
          "model_module": "@jupyter-widgets/controls",
          "model_name": "HTMLModel",
          "model_module_version": "1.5.0",
          "state": {
            "_dom_classes": [],
            "_model_module": "@jupyter-widgets/controls",
            "_model_module_version": "1.5.0",
            "_model_name": "HTMLModel",
            "_view_count": null,
            "_view_module": "@jupyter-widgets/controls",
            "_view_module_version": "1.5.0",
            "_view_name": "HTMLView",
            "description": "",
            "description_tooltip": null,
            "layout": "IPY_MODEL_53d592013fd24aa7b181768d408d6ca3",
            "placeholder": "​",
            "style": "IPY_MODEL_5bde8d90f972441ab6a46fbf3d6bce5f",
            "value": "100%"
          }
        },
        "839fd733fe964c37a09f3170e06e6465": {
          "model_module": "@jupyter-widgets/controls",
          "model_name": "FloatProgressModel",
          "model_module_version": "1.5.0",
          "state": {
            "_dom_classes": [],
            "_model_module": "@jupyter-widgets/controls",
            "_model_module_version": "1.5.0",
            "_model_name": "FloatProgressModel",
            "_view_count": null,
            "_view_module": "@jupyter-widgets/controls",
            "_view_module_version": "1.5.0",
            "_view_name": "ProgressView",
            "bar_style": "success",
            "description": "",
            "description_tooltip": null,
            "layout": "IPY_MODEL_00802b865deb4263b6ceb5ec933e5e43",
            "max": 64,
            "min": 0,
            "orientation": "horizontal",
            "style": "IPY_MODEL_97dfbd63ac194e1aa57378d56cc6273a",
            "value": 64
          }
        },
        "9d1203e16a9047c78ec82551c81ab7f2": {
          "model_module": "@jupyter-widgets/controls",
          "model_name": "HTMLModel",
          "model_module_version": "1.5.0",
          "state": {
            "_dom_classes": [],
            "_model_module": "@jupyter-widgets/controls",
            "_model_module_version": "1.5.0",
            "_model_name": "HTMLModel",
            "_view_count": null,
            "_view_module": "@jupyter-widgets/controls",
            "_view_module_version": "1.5.0",
            "_view_name": "HTMLView",
            "description": "",
            "description_tooltip": null,
            "layout": "IPY_MODEL_85783a3194c94a218ddcc07e707db4bb",
            "placeholder": "​",
            "style": "IPY_MODEL_a60b3a0f67be4b2fbc32a8b48d4aabe0",
            "value": " 64/64 [00:22&lt;00:00,  3.37it/s]"
          }
        },
        "e2e71f0667c443e7a6cece1f8b548db7": {
          "model_module": "@jupyter-widgets/base",
          "model_name": "LayoutModel",
          "model_module_version": "1.2.0",
          "state": {
            "_model_module": "@jupyter-widgets/base",
            "_model_module_version": "1.2.0",
            "_model_name": "LayoutModel",
            "_view_count": null,
            "_view_module": "@jupyter-widgets/base",
            "_view_module_version": "1.2.0",
            "_view_name": "LayoutView",
            "align_content": null,
            "align_items": null,
            "align_self": null,
            "border": null,
            "bottom": null,
            "display": null,
            "flex": null,
            "flex_flow": null,
            "grid_area": null,
            "grid_auto_columns": null,
            "grid_auto_flow": null,
            "grid_auto_rows": null,
            "grid_column": null,
            "grid_gap": null,
            "grid_row": null,
            "grid_template_areas": null,
            "grid_template_columns": null,
            "grid_template_rows": null,
            "height": null,
            "justify_content": null,
            "justify_items": null,
            "left": null,
            "margin": null,
            "max_height": null,
            "max_width": null,
            "min_height": null,
            "min_width": null,
            "object_fit": null,
            "object_position": null,
            "order": null,
            "overflow": null,
            "overflow_x": null,
            "overflow_y": null,
            "padding": null,
            "right": null,
            "top": null,
            "visibility": null,
            "width": null
          }
        },
        "53d592013fd24aa7b181768d408d6ca3": {
          "model_module": "@jupyter-widgets/base",
          "model_name": "LayoutModel",
          "model_module_version": "1.2.0",
          "state": {
            "_model_module": "@jupyter-widgets/base",
            "_model_module_version": "1.2.0",
            "_model_name": "LayoutModel",
            "_view_count": null,
            "_view_module": "@jupyter-widgets/base",
            "_view_module_version": "1.2.0",
            "_view_name": "LayoutView",
            "align_content": null,
            "align_items": null,
            "align_self": null,
            "border": null,
            "bottom": null,
            "display": null,
            "flex": null,
            "flex_flow": null,
            "grid_area": null,
            "grid_auto_columns": null,
            "grid_auto_flow": null,
            "grid_auto_rows": null,
            "grid_column": null,
            "grid_gap": null,
            "grid_row": null,
            "grid_template_areas": null,
            "grid_template_columns": null,
            "grid_template_rows": null,
            "height": null,
            "justify_content": null,
            "justify_items": null,
            "left": null,
            "margin": null,
            "max_height": null,
            "max_width": null,
            "min_height": null,
            "min_width": null,
            "object_fit": null,
            "object_position": null,
            "order": null,
            "overflow": null,
            "overflow_x": null,
            "overflow_y": null,
            "padding": null,
            "right": null,
            "top": null,
            "visibility": null,
            "width": null
          }
        },
        "5bde8d90f972441ab6a46fbf3d6bce5f": {
          "model_module": "@jupyter-widgets/controls",
          "model_name": "DescriptionStyleModel",
          "model_module_version": "1.5.0",
          "state": {
            "_model_module": "@jupyter-widgets/controls",
            "_model_module_version": "1.5.0",
            "_model_name": "DescriptionStyleModel",
            "_view_count": null,
            "_view_module": "@jupyter-widgets/base",
            "_view_module_version": "1.2.0",
            "_view_name": "StyleView",
            "description_width": ""
          }
        },
        "00802b865deb4263b6ceb5ec933e5e43": {
          "model_module": "@jupyter-widgets/base",
          "model_name": "LayoutModel",
          "model_module_version": "1.2.0",
          "state": {
            "_model_module": "@jupyter-widgets/base",
            "_model_module_version": "1.2.0",
            "_model_name": "LayoutModel",
            "_view_count": null,
            "_view_module": "@jupyter-widgets/base",
            "_view_module_version": "1.2.0",
            "_view_name": "LayoutView",
            "align_content": null,
            "align_items": null,
            "align_self": null,
            "border": null,
            "bottom": null,
            "display": null,
            "flex": null,
            "flex_flow": null,
            "grid_area": null,
            "grid_auto_columns": null,
            "grid_auto_flow": null,
            "grid_auto_rows": null,
            "grid_column": null,
            "grid_gap": null,
            "grid_row": null,
            "grid_template_areas": null,
            "grid_template_columns": null,
            "grid_template_rows": null,
            "height": null,
            "justify_content": null,
            "justify_items": null,
            "left": null,
            "margin": null,
            "max_height": null,
            "max_width": null,
            "min_height": null,
            "min_width": null,
            "object_fit": null,
            "object_position": null,
            "order": null,
            "overflow": null,
            "overflow_x": null,
            "overflow_y": null,
            "padding": null,
            "right": null,
            "top": null,
            "visibility": null,
            "width": null
          }
        },
        "97dfbd63ac194e1aa57378d56cc6273a": {
          "model_module": "@jupyter-widgets/controls",
          "model_name": "ProgressStyleModel",
          "model_module_version": "1.5.0",
          "state": {
            "_model_module": "@jupyter-widgets/controls",
            "_model_module_version": "1.5.0",
            "_model_name": "ProgressStyleModel",
            "_view_count": null,
            "_view_module": "@jupyter-widgets/base",
            "_view_module_version": "1.2.0",
            "_view_name": "StyleView",
            "bar_color": null,
            "description_width": ""
          }
        },
        "85783a3194c94a218ddcc07e707db4bb": {
          "model_module": "@jupyter-widgets/base",
          "model_name": "LayoutModel",
          "model_module_version": "1.2.0",
          "state": {
            "_model_module": "@jupyter-widgets/base",
            "_model_module_version": "1.2.0",
            "_model_name": "LayoutModel",
            "_view_count": null,
            "_view_module": "@jupyter-widgets/base",
            "_view_module_version": "1.2.0",
            "_view_name": "LayoutView",
            "align_content": null,
            "align_items": null,
            "align_self": null,
            "border": null,
            "bottom": null,
            "display": null,
            "flex": null,
            "flex_flow": null,
            "grid_area": null,
            "grid_auto_columns": null,
            "grid_auto_flow": null,
            "grid_auto_rows": null,
            "grid_column": null,
            "grid_gap": null,
            "grid_row": null,
            "grid_template_areas": null,
            "grid_template_columns": null,
            "grid_template_rows": null,
            "height": null,
            "justify_content": null,
            "justify_items": null,
            "left": null,
            "margin": null,
            "max_height": null,
            "max_width": null,
            "min_height": null,
            "min_width": null,
            "object_fit": null,
            "object_position": null,
            "order": null,
            "overflow": null,
            "overflow_x": null,
            "overflow_y": null,
            "padding": null,
            "right": null,
            "top": null,
            "visibility": null,
            "width": null
          }
        },
        "a60b3a0f67be4b2fbc32a8b48d4aabe0": {
          "model_module": "@jupyter-widgets/controls",
          "model_name": "DescriptionStyleModel",
          "model_module_version": "1.5.0",
          "state": {
            "_model_module": "@jupyter-widgets/controls",
            "_model_module_version": "1.5.0",
            "_model_name": "DescriptionStyleModel",
            "_view_count": null,
            "_view_module": "@jupyter-widgets/base",
            "_view_module_version": "1.2.0",
            "_view_name": "StyleView",
            "description_width": ""
          }
        },
        "95b75d54fb43465e8cdb5897a11371ad": {
          "model_module": "@jupyter-widgets/controls",
          "model_name": "HTMLModel",
          "model_module_version": "1.5.0",
          "state": {
            "_dom_classes": [],
            "_model_module": "@jupyter-widgets/controls",
            "_model_module_version": "1.5.0",
            "_model_name": "HTMLModel",
            "_view_count": null,
            "_view_module": "@jupyter-widgets/controls",
            "_view_module_version": "1.5.0",
            "_view_name": "HTMLView",
            "description": "",
            "description_tooltip": null,
            "layout": "IPY_MODEL_cc05764bcbf147c8a05e25bfc8f3a953",
            "placeholder": "​",
            "style": "IPY_MODEL_e34bd28b14d9405e923fecf16c58ed4e",
            "value": "<img src=\"data:image/gif;base64,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\" />"
          }
        },
        "cc05764bcbf147c8a05e25bfc8f3a953": {
          "model_module": "@jupyter-widgets/base",
          "model_name": "LayoutModel",
          "model_module_version": "1.2.0",
          "state": {
            "_model_module": "@jupyter-widgets/base",
            "_model_module_version": "1.2.0",
            "_model_name": "LayoutModel",
            "_view_count": null,
            "_view_module": "@jupyter-widgets/base",
            "_view_module_version": "1.2.0",
            "_view_name": "LayoutView",
            "align_content": null,
            "align_items": null,
            "align_self": null,
            "border": null,
            "bottom": null,
            "display": null,
            "flex": null,
            "flex_flow": null,
            "grid_area": null,
            "grid_auto_columns": null,
            "grid_auto_flow": null,
            "grid_auto_rows": null,
            "grid_column": null,
            "grid_gap": null,
            "grid_row": null,
            "grid_template_areas": null,
            "grid_template_columns": null,
            "grid_template_rows": null,
            "height": null,
            "justify_content": null,
            "justify_items": null,
            "left": null,
            "margin": null,
            "max_height": null,
            "max_width": null,
            "min_height": null,
            "min_width": null,
            "object_fit": null,
            "object_position": null,
            "order": null,
            "overflow": null,
            "overflow_x": null,
            "overflow_y": null,
            "padding": null,
            "right": null,
            "top": null,
            "visibility": null,
            "width": null
          }
        },
        "e34bd28b14d9405e923fecf16c58ed4e": {
          "model_module": "@jupyter-widgets/controls",
          "model_name": "DescriptionStyleModel",
          "model_module_version": "1.5.0",
          "state": {
            "_model_module": "@jupyter-widgets/controls",
            "_model_module_version": "1.5.0",
            "_model_name": "DescriptionStyleModel",
            "_view_count": null,
            "_view_module": "@jupyter-widgets/base",
            "_view_module_version": "1.2.0",
            "_view_name": "StyleView",
            "description_width": ""
          }
        }
      }
    }
  },
  "cells": [
    {
      "cell_type": "markdown",
      "metadata": {
        "id": "view-in-github",
        "colab_type": "text"
      },
      "source": [
        "<a href=\"https://colab.research.google.com/github/chuhongkyu/shap-e/blob/main/shape_e.ipynb\" target=\"_parent\"><img src=\"https://colab.research.google.com/assets/colab-badge.svg\" alt=\"Open In Colab\"/></a>"
      ]
    },
    {
      "cell_type": "code",
      "source": [
        "!git clone https://github.com/openai/shap-e"
      ],
      "metadata": {
        "colab": {
          "base_uri": "https://localhost:8080/"
        },
        "id": "WgUc5Y9hJbR-",
        "outputId": "348fe8df-9f61-4862-fe5b-cbb8a6de8c1e"
      },
      "execution_count": null,
      "outputs": [
        {
          "output_type": "stream",
          "name": "stdout",
          "text": [
            "Cloning into 'shap-e'...\n",
            "remote: Enumerating objects: 336, done.\u001b[K\n",
            "remote: Counting objects: 100% (260/260), done.\u001b[K\n",
            "remote: Compressing objects: 100% (241/241), done.\u001b[K\n",
            "remote: Total 336 (delta 41), reused 217 (delta 18), pack-reused 76\u001b[K\n",
            "Receiving objects: 100% (336/336), 11.72 MiB | 13.47 MiB/s, done.\n",
            "Resolving deltas: 100% (44/44), done.\n"
          ]
        }
      ]
    },
    {
      "cell_type": "code",
      "source": [
        "%cd shap-e\n",
        "!pip install -e ."
      ],
      "metadata": {
        "colab": {
          "base_uri": "https://localhost:8080/"
        },
        "id": "DCa7XS9QJcmW",
        "outputId": "81f47f10-a2d3-49b0-ac3d-752ddc5423e4"
      },
      "execution_count": null,
      "outputs": [
        {
          "output_type": "stream",
          "name": "stdout",
          "text": [
            "/content/shap-e\n",
            "Obtaining file:///content/shap-e\n",
            "  Preparing metadata (setup.py) ... \u001b[?25l\u001b[?25hdone\n",
            "Collecting clip@ git+https://github.com/openai/CLIP.git (from shap-e==0.0.0)\n",
            "  Cloning https://github.com/openai/CLIP.git to /tmp/pip-install-3ute3dsc/clip_3dff793065484c669d2fc4bae9b7baec\n",
            "  Running command git clone --filter=blob:none --quiet https://github.com/openai/CLIP.git /tmp/pip-install-3ute3dsc/clip_3dff793065484c669d2fc4bae9b7baec\n",
            "  Resolved https://github.com/openai/CLIP.git to commit a1d071733d7111c9c014f024669f959182114e33\n",
            "  Preparing metadata (setup.py) ... \u001b[?25l\u001b[?25hdone\n",
            "Requirement already satisfied: filelock in /usr/local/lib/python3.10/dist-packages (from shap-e==0.0.0) (3.13.1)\n",
            "Requirement already satisfied: Pillow in /usr/local/lib/python3.10/dist-packages (from shap-e==0.0.0) (9.4.0)\n",
            "Requirement already satisfied: torch in /usr/local/lib/python3.10/dist-packages (from shap-e==0.0.0) (2.1.0+cu121)\n",
            "Collecting fire (from shap-e==0.0.0)\n",
            "  Downloading fire-0.5.0.tar.gz (88 kB)\n",
            "\u001b[2K     \u001b[90m━━━━━━━━━━━━━━━━━━━━━━━━━━━━━━━━━━━━━━━━\u001b[0m \u001b[32m88.3/88.3 kB\u001b[0m \u001b[31m2.4 MB/s\u001b[0m eta \u001b[36m0:00:00\u001b[0m\n",
            "\u001b[?25h  Preparing metadata (setup.py) ... \u001b[?25l\u001b[?25hdone\n",
            "Requirement already satisfied: humanize in /usr/local/lib/python3.10/dist-packages (from shap-e==0.0.0) (4.7.0)\n",
            "Requirement already satisfied: requests in /usr/local/lib/python3.10/dist-packages (from shap-e==0.0.0) (2.31.0)\n",
            "Requirement already satisfied: tqdm in /usr/local/lib/python3.10/dist-packages (from shap-e==0.0.0) (4.66.1)\n",
            "Requirement already satisfied: matplotlib in /usr/local/lib/python3.10/dist-packages (from shap-e==0.0.0) (3.7.1)\n",
            "Requirement already satisfied: scikit-image in /usr/local/lib/python3.10/dist-packages (from shap-e==0.0.0) (0.19.3)\n",
            "Requirement already satisfied: scipy in /usr/local/lib/python3.10/dist-packages (from shap-e==0.0.0) (1.11.4)\n",
            "Requirement already satisfied: numpy in /usr/local/lib/python3.10/dist-packages (from shap-e==0.0.0) (1.23.5)\n",
            "Collecting blobfile (from shap-e==0.0.0)\n",
            "  Downloading blobfile-2.1.1-py3-none-any.whl (73 kB)\n",
            "\u001b[2K     \u001b[90m━━━━━━━━━━━━━━━━━━━━━━━━━━━━━━━━━━━━━━━━\u001b[0m \u001b[32m73.7/73.7 kB\u001b[0m \u001b[31m5.8 MB/s\u001b[0m eta \u001b[36m0:00:00\u001b[0m\n",
            "\u001b[?25hCollecting pycryptodomex~=3.8 (from blobfile->shap-e==0.0.0)\n",
            "  Downloading pycryptodomex-3.19.1-cp35-abi3-manylinux_2_17_x86_64.manylinux2014_x86_64.whl (2.1 MB)\n",
            "\u001b[2K     \u001b[90m━━━━━━━━━━━━━━━━━━━━━━━━━━━━━━━━━━━━━━━━\u001b[0m \u001b[32m2.1/2.1 MB\u001b[0m \u001b[31m15.5 MB/s\u001b[0m eta \u001b[36m0:00:00\u001b[0m\n",
            "\u001b[?25hRequirement already satisfied: urllib3<3,>=1.25.3 in /usr/local/lib/python3.10/dist-packages (from blobfile->shap-e==0.0.0) (2.0.7)\n",
            "Requirement already satisfied: lxml~=4.9 in /usr/local/lib/python3.10/dist-packages (from blobfile->shap-e==0.0.0) (4.9.4)\n",
            "Collecting ftfy (from clip@ git+https://github.com/openai/CLIP.git->shap-e==0.0.0)\n",
            "  Downloading ftfy-6.1.3-py3-none-any.whl (53 kB)\n",
            "\u001b[2K     \u001b[90m━━━━━━━━━━━━━━━━━━━━━━━━━━━━━━━━━━━━━━━━\u001b[0m \u001b[32m53.4/53.4 kB\u001b[0m \u001b[31m8.1 MB/s\u001b[0m eta \u001b[36m0:00:00\u001b[0m\n",
            "\u001b[?25hRequirement already satisfied: regex in /usr/local/lib/python3.10/dist-packages (from clip@ git+https://github.com/openai/CLIP.git->shap-e==0.0.0) (2023.6.3)\n",
            "Requirement already satisfied: torchvision in /usr/local/lib/python3.10/dist-packages (from clip@ git+https://github.com/openai/CLIP.git->shap-e==0.0.0) (0.16.0+cu121)\n",
            "Requirement already satisfied: six in /usr/local/lib/python3.10/dist-packages (from fire->shap-e==0.0.0) (1.16.0)\n",
            "Requirement already satisfied: termcolor in /usr/local/lib/python3.10/dist-packages (from fire->shap-e==0.0.0) (2.4.0)\n",
            "Requirement already satisfied: contourpy>=1.0.1 in /usr/local/lib/python3.10/dist-packages (from matplotlib->shap-e==0.0.0) (1.2.0)\n",
            "Requirement already satisfied: cycler>=0.10 in /usr/local/lib/python3.10/dist-packages (from matplotlib->shap-e==0.0.0) (0.12.1)\n",
            "Requirement already satisfied: fonttools>=4.22.0 in /usr/local/lib/python3.10/dist-packages (from matplotlib->shap-e==0.0.0) (4.47.0)\n",
            "Requirement already satisfied: kiwisolver>=1.0.1 in /usr/local/lib/python3.10/dist-packages (from matplotlib->shap-e==0.0.0) (1.4.5)\n",
            "Requirement already satisfied: packaging>=20.0 in /usr/local/lib/python3.10/dist-packages (from matplotlib->shap-e==0.0.0) (23.2)\n",
            "Requirement already satisfied: pyparsing>=2.3.1 in /usr/local/lib/python3.10/dist-packages (from matplotlib->shap-e==0.0.0) (3.1.1)\n",
            "Requirement already satisfied: python-dateutil>=2.7 in /usr/local/lib/python3.10/dist-packages (from matplotlib->shap-e==0.0.0) (2.8.2)\n",
            "Requirement already satisfied: charset-normalizer<4,>=2 in /usr/local/lib/python3.10/dist-packages (from requests->shap-e==0.0.0) (3.3.2)\n",
            "Requirement already satisfied: idna<4,>=2.5 in /usr/local/lib/python3.10/dist-packages (from requests->shap-e==0.0.0) (3.6)\n",
            "Requirement already satisfied: certifi>=2017.4.17 in /usr/local/lib/python3.10/dist-packages (from requests->shap-e==0.0.0) (2023.11.17)\n",
            "Requirement already satisfied: networkx>=2.2 in /usr/local/lib/python3.10/dist-packages (from scikit-image->shap-e==0.0.0) (3.2.1)\n",
            "Requirement already satisfied: imageio>=2.4.1 in /usr/local/lib/python3.10/dist-packages (from scikit-image->shap-e==0.0.0) (2.31.6)\n",
            "Requirement already satisfied: tifffile>=2019.7.26 in /usr/local/lib/python3.10/dist-packages (from scikit-image->shap-e==0.0.0) (2023.12.9)\n",
            "Requirement already satisfied: PyWavelets>=1.1.1 in /usr/local/lib/python3.10/dist-packages (from scikit-image->shap-e==0.0.0) (1.5.0)\n",
            "Requirement already satisfied: typing-extensions in /usr/local/lib/python3.10/dist-packages (from torch->shap-e==0.0.0) (4.5.0)\n",
            "Requirement already satisfied: sympy in /usr/local/lib/python3.10/dist-packages (from torch->shap-e==0.0.0) (1.12)\n",
            "Requirement already satisfied: jinja2 in /usr/local/lib/python3.10/dist-packages (from torch->shap-e==0.0.0) (3.1.2)\n",
            "Requirement already satisfied: fsspec in /usr/local/lib/python3.10/dist-packages (from torch->shap-e==0.0.0) (2023.6.0)\n",
            "Requirement already satisfied: triton==2.1.0 in /usr/local/lib/python3.10/dist-packages (from torch->shap-e==0.0.0) (2.1.0)\n",
            "Requirement already satisfied: wcwidth<0.3.0,>=0.2.12 in /usr/local/lib/python3.10/dist-packages (from ftfy->clip@ git+https://github.com/openai/CLIP.git->shap-e==0.0.0) (0.2.12)\n",
            "Requirement already satisfied: MarkupSafe>=2.0 in /usr/local/lib/python3.10/dist-packages (from jinja2->torch->shap-e==0.0.0) (2.1.3)\n",
            "Requirement already satisfied: mpmath>=0.19 in /usr/local/lib/python3.10/dist-packages (from sympy->torch->shap-e==0.0.0) (1.3.0)\n",
            "Building wheels for collected packages: clip, fire\n",
            "  Building wheel for clip (setup.py) ... \u001b[?25l\u001b[?25hdone\n",
            "  Created wheel for clip: filename=clip-1.0-py3-none-any.whl size=1369497 sha256=cc59a498f5eb17949e02bd253b38dd6860de47e4d91a0b3b836430b2d1ab450a\n",
            "  Stored in directory: /tmp/pip-ephem-wheel-cache-yyi31p2q/wheels/da/2b/4c/d6691fa9597aac8bb85d2ac13b112deb897d5b50f5ad9a37e4\n",
            "  Building wheel for fire (setup.py) ... \u001b[?25l\u001b[?25hdone\n",
            "  Created wheel for fire: filename=fire-0.5.0-py2.py3-none-any.whl size=116934 sha256=c95319025339efff1905c9fcd892c21633c785a2f1cfe122c6ce1ce69cc29544\n",
            "  Stored in directory: /root/.cache/pip/wheels/90/d4/f7/9404e5db0116bd4d43e5666eaa3e70ab53723e1e3ea40c9a95\n",
            "Successfully built clip fire\n",
            "Installing collected packages: pycryptodomex, ftfy, fire, blobfile, clip, shap-e\n",
            "  Running setup.py develop for shap-e\n",
            "Successfully installed blobfile-2.1.1 clip-1.0 fire-0.5.0 ftfy-6.1.3 pycryptodomex-3.19.1 shap-e-0.0.0\n"
          ]
        }
      ]
    },
    {
      "cell_type": "code",
      "source": [
        "pip install Flask"
      ],
      "metadata": {
        "colab": {
          "base_uri": "https://localhost:8080/"
        },
        "id": "wT4C_5bhNuoT",
        "outputId": "697e2d1d-862a-4fd4-96ea-fc48fc76d789"
      },
      "execution_count": 1,
      "outputs": [
        {
          "output_type": "stream",
          "name": "stdout",
          "text": [
            "Requirement already satisfied: Flask in /usr/local/lib/python3.10/dist-packages (2.2.5)\n",
            "Requirement already satisfied: Werkzeug>=2.2.2 in /usr/local/lib/python3.10/dist-packages (from Flask) (3.0.1)\n",
            "Requirement already satisfied: Jinja2>=3.0 in /usr/local/lib/python3.10/dist-packages (from Flask) (3.1.2)\n",
            "Requirement already satisfied: itsdangerous>=2.0 in /usr/local/lib/python3.10/dist-packages (from Flask) (2.1.2)\n",
            "Requirement already satisfied: click>=8.0 in /usr/local/lib/python3.10/dist-packages (from Flask) (8.1.7)\n",
            "Requirement already satisfied: MarkupSafe>=2.0 in /usr/local/lib/python3.10/dist-packages (from Jinja2>=3.0->Flask) (2.1.3)\n"
          ]
        }
      ]
    },
    {
      "cell_type": "code",
      "source": [
        "import torch\n",
        "\n",
        "from shap_e.diffusion.sample import sample_latents\n",
        "from shap_e.diffusion.gaussian_diffusion import diffusion_from_config\n",
        "from shap_e.models.download import load_model, load_config\n",
        "from shap_e.util.notebooks import create_pan_cameras, decode_latent_images, gif_widget"
      ],
      "metadata": {
        "id": "MujOd_wtJcwb"
      },
      "execution_count": null,
      "outputs": []
    },
    {
      "cell_type": "code",
      "source": [
        "device = torch.device('cuda' if torch.cuda.is_available() else 'cpu')\n",
        "print(device)"
      ],
      "metadata": {
        "colab": {
          "base_uri": "https://localhost:8080/"
        },
        "id": "y4Rrz2bmJdWw",
        "outputId": "dcd6fbad-7b6b-4e25-e544-3f3a43a18df4"
      },
      "execution_count": null,
      "outputs": [
        {
          "output_type": "stream",
          "name": "stdout",
          "text": [
            "cuda\n"
          ]
        }
      ]
    },
    {
      "cell_type": "code",
      "source": [
        "xm = load_model('transmitter', device=device)\n",
        "model = load_model('text300M', device=device)\n",
        "diffusion = diffusion_from_config(load_config('diffusion'))"
      ],
      "metadata": {
        "colab": {
          "base_uri": "https://localhost:8080/",
          "height": 99,
          "referenced_widgets": [
            "8366b8e10d324e61bf819ae695bc6404",
            "fbec3bc6a7b94f72bd3b5a0812b4a93a",
            "da69ea564ebb43f6806af0c6df785354",
            "4ac9231a92b84f8fbab114f98b538556",
            "c9f22c33516043bb93e568e799b77c27",
            "1663d3f0acd44ddaae921ddc64dded68",
            "d1da1476fe134d6baeaf52fc6759d864",
            "295d25265cc84a1ebb134bebe5aa4b4b",
            "a11ffb6a43bc405e8bb7d3124fb64cb0",
            "7c72c623782f4e14a3423035399187c6",
            "a0b102ca8d254df081979c7ed72b1969",
            "8d8d8ab146474c069b10ddd52a0e1290",
            "bd366701f50b4dc893860cf7a63ecd68",
            "3d67ef3fbb3d40bcbb636516ae9a6b91",
            "bad4452866874fd8928a657dde53a6be",
            "20533aafcb9e47fba92f5f6b24116b55",
            "79072662e26a4569b54c87f100030c00",
            "f8e2eba82a4d4fd583d2c736269b1865",
            "4342c4439aa94dfe8ed9db20a323e02c",
            "b0feb0833b06410392482af35e58310d",
            "8eaf915c92e048bd9f99d72493c2b0b0",
            "6cac439f094d4bfabda5784fd8a9b5a5"
          ]
        },
        "id": "Ym5kPap3JstC",
        "outputId": "adbf3fe5-0121-4bce-cee1-bec639263e1c"
      },
      "execution_count": null,
      "outputs": [
        {
          "output_type": "display_data",
          "data": {
            "text/plain": [
              "  0%|          | 0.00/1.78G [00:00<?, ?iB/s]"
            ],
            "application/vnd.jupyter.widget-view+json": {
              "version_major": 2,
              "version_minor": 0,
              "model_id": "8366b8e10d324e61bf819ae695bc6404"
            }
          },
          "metadata": {}
        },
        {
          "output_type": "stream",
          "name": "stderr",
          "text": [
            "100%|███████████████████████████████████████| 890M/890M [00:10<00:00, 87.2MiB/s]\n"
          ]
        },
        {
          "output_type": "display_data",
          "data": {
            "text/plain": [
              "  0%|          | 0.00/1.26G [00:00<?, ?iB/s]"
            ],
            "application/vnd.jupyter.widget-view+json": {
              "version_major": 2,
              "version_minor": 0,
              "model_id": "8d8d8ab146474c069b10ddd52a0e1290"
            }
          },
          "metadata": {}
        }
      ]
    },
    {
      "cell_type": "code",
      "source": [
        "batch_size = 1\n",
        "guidance_scale = 15.0\n",
        "prompt = \"a donut\"\n",
        "\n",
        "latents = sample_latents(\n",
        "    batch_size=batch_size,\n",
        "    model=model,\n",
        "    diffusion=diffusion,\n",
        "    guidance_scale=guidance_scale,\n",
        "    model_kwargs=dict(texts=[prompt] * batch_size),\n",
        "    progress=True,\n",
        "    clip_denoised=True,\n",
        "    use_fp16=True,\n",
        "    use_karras=True,\n",
        "    karras_steps=64,\n",
        "    sigma_min=1E-3,\n",
        "    sigma_max=160,\n",
        "    s_churn=0,\n",
        ")"
      ],
      "metadata": {
        "colab": {
          "base_uri": "https://localhost:8080/",
          "height": 49,
          "referenced_widgets": [
            "840fb34cbf5f4e25aa2d05fe2558b37e",
            "41668893fd8d48a4aaf8ca4efb2330b6",
            "839fd733fe964c37a09f3170e06e6465",
            "9d1203e16a9047c78ec82551c81ab7f2",
            "e2e71f0667c443e7a6cece1f8b548db7",
            "53d592013fd24aa7b181768d408d6ca3",
            "5bde8d90f972441ab6a46fbf3d6bce5f",
            "00802b865deb4263b6ceb5ec933e5e43",
            "97dfbd63ac194e1aa57378d56cc6273a",
            "85783a3194c94a218ddcc07e707db4bb",
            "a60b3a0f67be4b2fbc32a8b48d4aabe0"
          ]
        },
        "id": "Jfd0qV3EJ2-j",
        "outputId": "dd9973dd-1e6e-497e-8d67-9b45e5126817"
      },
      "execution_count": null,
      "outputs": [
        {
          "output_type": "display_data",
          "data": {
            "text/plain": [
              "  0%|          | 0/64 [00:00<?, ?it/s]"
            ],
            "application/vnd.jupyter.widget-view+json": {
              "version_major": 2,
              "version_minor": 0,
              "model_id": "840fb34cbf5f4e25aa2d05fe2558b37e"
            }
          },
          "metadata": {}
        }
      ]
    },
    {
      "cell_type": "code",
      "source": [
        "render_mode = 'nerf' # you can change this to 'stf'\n",
        "size = 64 # this is the size of the renders, higher values take longer to render.\n",
        "\n",
        "cameras = create_pan_cameras(size, device)\n",
        "for i, latent in enumerate(latents):\n",
        "    images = decode_latent_images(xm, latent, cameras, rendering_mode=render_mode)\n",
        "    display(gif_widget(images))"
      ],
      "metadata": {
        "colab": {
          "base_uri": "https://localhost:8080/",
          "height": 96,
          "referenced_widgets": [
            "95b75d54fb43465e8cdb5897a11371ad",
            "cc05764bcbf147c8a05e25bfc8f3a953",
            "e34bd28b14d9405e923fecf16c58ed4e"
          ]
        },
        "id": "ocQatX9FJ7Cc",
        "outputId": "bfd7fd6c-d22b-4715-9e31-442186f36920"
      },
      "execution_count": null,
      "outputs": [
        {
          "output_type": "display_data",
          "data": {
            "text/plain": [
              "HTML(value='<img src=\"data:image/gif;base64,R0lGODlhQABAAIcAAO3m7N7a3+HP3NnG2dS71teysMe5x8GzwN+vi96thN2tg9qsgt…"
            ],
            "application/vnd.jupyter.widget-view+json": {
              "version_major": 2,
              "version_minor": 0,
              "model_id": "95b75d54fb43465e8cdb5897a11371ad"
            }
          },
          "metadata": {}
        }
      ]
    },
    {
      "cell_type": "code",
      "source": [
        "from shap_e.util.notebooks import decode_latent_mesh\n",
        "\n",
        "for i, latent in enumerate(latents):\n",
        "    t = decode_latent_mesh(xm, latent).tri_mesh()\n",
        "    with open(f'example_mesh_{i}.ply', 'wb') as f: # this is three-dimensional geometric data of model.\n",
        "        t.write_ply(f)\n",
        "    with open(f'example_mesh_{i}.obj', 'w') as f: # we will use this file to customize in Blender Studio later.\n",
        "        t.write_obj(f)"
      ],
      "metadata": {
        "colab": {
          "base_uri": "https://localhost:8080/"
        },
        "id": "i4ezXTvvJ7SX",
        "outputId": "ebab009e-bb71-4395-bbe7-1435aa594591"
      },
      "execution_count": null,
      "outputs": [
        {
          "output_type": "stream",
          "name": "stderr",
          "text": [
            "/content/shap-e/shap_e/models/stf/renderer.py:286: UserWarning: exception rendering with PyTorch3D: No module named 'pytorch3d'\n",
            "  warnings.warn(f\"exception rendering with PyTorch3D: {exc}\")\n",
            "/content/shap-e/shap_e/models/stf/renderer.py:287: UserWarning: falling back on native PyTorch renderer, which does not support full gradients\n",
            "  warnings.warn(\n"
          ]
        }
      ]
    }
  ]
}